{
 "metadata": {
  "language_info": {
   "codemirror_mode": {
    "name": "ipython",
    "version": 3
   },
   "file_extension": ".py",
   "mimetype": "text/x-python",
   "name": "python",
   "nbconvert_exporter": "python",
   "pygments_lexer": "ipython3",
   "version": "3.8.3-final"
  },
  "orig_nbformat": 2,
  "kernelspec": {
   "name": "Python 3.8.3 64-bit (conda)",
   "display_name": "Python 3.8.3 64-bit (conda)",
   "metadata": {
    "interpreter": {
     "hash": "b3ba2566441a7c06988d0923437866b63cedc61552a5af99d1f4fb67d367b25f"
    }
   }
  }
 },
 "nbformat": 4,
 "nbformat_minor": 2,
 "cells": [
  {
   "cell_type": "code",
   "execution_count": 2,
   "metadata": {},
   "outputs": [],
   "source": [
    "# importing all the neccessary module\n",
    "import pandas as pd\n",
    "import numpy as np\n",
    "import matplotlib.pyplot as plt\n",
    "import emoji\n",
    "from IPython.core.interactiveshell import InteractiveShell\n",
    "import re\n",
    "\n",
    "# how many outputs do you want to display for each block ?\n",
    "InteractiveShell.ast_node_interactivity = 'all'\n",
    "# InteractiveShell.ast_node_interactivity = 'last'\n",
    "\n"
   ]
  },
  {
   "cell_type": "code",
   "execution_count": 3,
   "metadata": {},
   "outputs": [],
   "source": [
    "#how many output summary row do you want to display?\n",
    "pd.set_option('display.max_row',None)\n",
    "# pd.set_option('display.max_row',100)\n",
    "\n",
    "# how many output summary columns do you want to display?\n",
    "pd.set_option('display.max_columns',None)\n",
    "# pd.set_option('display.max_columns',20)\n"
   ]
  },
  {
   "cell_type": "code",
   "execution_count": 16,
   "metadata": {},
   "outputs": [],
   "source": [
    "bscs = pd.read_csv(\"C:\\\\Users\\\\Waqas\\\\OneDrive\\\\Dataset\\\\WhatsApp Chat with BSCS.csv\",\n",
    "                     delimiter = '\\t',\n",
    "                     header = None,\n",
    "                     names =['text'])"
   ]
  },
  {
   "cell_type": "code",
   "execution_count": 21,
   "metadata": {},
   "outputs": [
    {
     "output_type": "execute_result",
     "data": {
      "text/plain": [
       "                                                text          DataTime_Str  \\\n",
       "0  11/07/2020, 10:43 pm - Messages and calls are ...  11/07/2020, 10:43 pm   \n",
       "1  15/07/2020, 8:51 pm - Syed Muhammad Ali Abbas ...   15/07/2020, 8:51 pm   \n",
       "2        16/07/2020, 2:39 pm - You added Senior ubit   16/07/2020, 2:39 pm   \n",
       "3  23/07/2020, 5:38 pm - IAMWaqasAhmed: Allow kar...   23/07/2020, 5:38 pm   \n",
       "4  23/07/2020, 7:53 pm - Syed Muhammad Ali Abbas ...   23/07/2020, 7:53 pm   \n",
       "5  24/07/2020, 1:04 am - Ammar Sohail UBIT: Depar...   24/07/2020, 1:04 am   \n",
       "6    24/07/2020, 1:04 am - Manav Lala UBIT: DCS-UBIT   24/07/2020, 1:04 am   \n",
       "7     24/07/2020, 1:07 am - Ammar Sohail UBIT: San Q   24/07/2020, 1:07 am   \n",
       "8  24/07/2020, 12:50 pm - Shaban Alam UBIT: <Medi...  24/07/2020, 12:50 pm   \n",
       "9       24/07/2020, 12:52 pm - Sheik Raess UBIT: 👍👍👍  24/07/2020, 12:52 pm   \n",
       "\n",
       "                                              text_2  \n",
       "0  Messages and calls are end-to-end encrypted. N...  \n",
       "1      Syed Muhammad Ali Abbas UBIT: <Media omitted>  \n",
       "2                              You added Senior ubit  \n",
       "3                    IAMWaqasAhmed: Allow kardoo sub  \n",
       "4      Syed Muhammad Ali Abbas UBIT: <Media omitted>  \n",
       "5  Ammar Sohail UBIT: Department name? Computer s...  \n",
       "6                          Manav Lala UBIT: DCS-UBIT  \n",
       "7                           Ammar Sohail UBIT: San Q  \n",
       "8                  Shaban Alam UBIT: <Media omitted>  \n",
       "9                              Sheik Raess UBIT: 👍👍👍  "
      ],
      "text/html": "<div>\n<style scoped>\n    .dataframe tbody tr th:only-of-type {\n        vertical-align: middle;\n    }\n\n    .dataframe tbody tr th {\n        vertical-align: top;\n    }\n\n    .dataframe thead th {\n        text-align: right;\n    }\n</style>\n<table border=\"1\" class=\"dataframe\">\n  <thead>\n    <tr style=\"text-align: right;\">\n      <th></th>\n      <th>text</th>\n      <th>DataTime_Str</th>\n      <th>text_2</th>\n    </tr>\n  </thead>\n  <tbody>\n    <tr>\n      <th>0</th>\n      <td>11/07/2020, 10:43 pm - Messages and calls are ...</td>\n      <td>11/07/2020, 10:43 pm</td>\n      <td>Messages and calls are end-to-end encrypted. N...</td>\n    </tr>\n    <tr>\n      <th>1</th>\n      <td>15/07/2020, 8:51 pm - Syed Muhammad Ali Abbas ...</td>\n      <td>15/07/2020, 8:51 pm</td>\n      <td>Syed Muhammad Ali Abbas UBIT: &lt;Media omitted&gt;</td>\n    </tr>\n    <tr>\n      <th>2</th>\n      <td>16/07/2020, 2:39 pm - You added Senior ubit</td>\n      <td>16/07/2020, 2:39 pm</td>\n      <td>You added Senior ubit</td>\n    </tr>\n    <tr>\n      <th>3</th>\n      <td>23/07/2020, 5:38 pm - IAMWaqasAhmed: Allow kar...</td>\n      <td>23/07/2020, 5:38 pm</td>\n      <td>IAMWaqasAhmed: Allow kardoo sub</td>\n    </tr>\n    <tr>\n      <th>4</th>\n      <td>23/07/2020, 7:53 pm - Syed Muhammad Ali Abbas ...</td>\n      <td>23/07/2020, 7:53 pm</td>\n      <td>Syed Muhammad Ali Abbas UBIT: &lt;Media omitted&gt;</td>\n    </tr>\n    <tr>\n      <th>5</th>\n      <td>24/07/2020, 1:04 am - Ammar Sohail UBIT: Depar...</td>\n      <td>24/07/2020, 1:04 am</td>\n      <td>Ammar Sohail UBIT: Department name? Computer s...</td>\n    </tr>\n    <tr>\n      <th>6</th>\n      <td>24/07/2020, 1:04 am - Manav Lala UBIT: DCS-UBIT</td>\n      <td>24/07/2020, 1:04 am</td>\n      <td>Manav Lala UBIT: DCS-UBIT</td>\n    </tr>\n    <tr>\n      <th>7</th>\n      <td>24/07/2020, 1:07 am - Ammar Sohail UBIT: San Q</td>\n      <td>24/07/2020, 1:07 am</td>\n      <td>Ammar Sohail UBIT: San Q</td>\n    </tr>\n    <tr>\n      <th>8</th>\n      <td>24/07/2020, 12:50 pm - Shaban Alam UBIT: &lt;Medi...</td>\n      <td>24/07/2020, 12:50 pm</td>\n      <td>Shaban Alam UBIT: &lt;Media omitted&gt;</td>\n    </tr>\n    <tr>\n      <th>9</th>\n      <td>24/07/2020, 12:52 pm - Sheik Raess UBIT: 👍👍👍</td>\n      <td>24/07/2020, 12:52 pm</td>\n      <td>Sheik Raess UBIT: 👍👍👍</td>\n    </tr>\n  </tbody>\n</table>\n</div>"
     },
     "metadata": {},
     "execution_count": 21
    }
   ],
   "source": [
    "bscs.head(10)"
   ]
  },
  {
   "cell_type": "code",
   "execution_count": 19,
   "metadata": {},
   "outputs": [],
   "source": [
    "# Extract DateTime\n",
    "bscs[['DataTime_Str','text_2']]  = bscs['text'].str.split(\" - \",1,expand=True)"
   ]
  },
  {
   "cell_type": "code",
   "execution_count": 22,
   "metadata": {},
   "outputs": [
    {
     "output_type": "execute_result",
     "data": {
      "text/plain": [
       "                                                text          DataTime_Str  \\\n",
       "0  11/07/2020, 10:43 pm - Messages and calls are ...  11/07/2020, 10:43 pm   \n",
       "1  15/07/2020, 8:51 pm - Syed Muhammad Ali Abbas ...   15/07/2020, 8:51 pm   \n",
       "2        16/07/2020, 2:39 pm - You added Senior ubit   16/07/2020, 2:39 pm   \n",
       "3  23/07/2020, 5:38 pm - IAMWaqasAhmed: Allow kar...   23/07/2020, 5:38 pm   \n",
       "4  23/07/2020, 7:53 pm - Syed Muhammad Ali Abbas ...   23/07/2020, 7:53 pm   \n",
       "5  24/07/2020, 1:04 am - Ammar Sohail UBIT: Depar...   24/07/2020, 1:04 am   \n",
       "6    24/07/2020, 1:04 am - Manav Lala UBIT: DCS-UBIT   24/07/2020, 1:04 am   \n",
       "7     24/07/2020, 1:07 am - Ammar Sohail UBIT: San Q   24/07/2020, 1:07 am   \n",
       "8  24/07/2020, 12:50 pm - Shaban Alam UBIT: <Medi...  24/07/2020, 12:50 pm   \n",
       "9       24/07/2020, 12:52 pm - Sheik Raess UBIT: 👍👍👍  24/07/2020, 12:52 pm   \n",
       "\n",
       "                                              text_2  \n",
       "0  Messages and calls are end-to-end encrypted. N...  \n",
       "1      Syed Muhammad Ali Abbas UBIT: <Media omitted>  \n",
       "2                              You added Senior ubit  \n",
       "3                    IAMWaqasAhmed: Allow kardoo sub  \n",
       "4      Syed Muhammad Ali Abbas UBIT: <Media omitted>  \n",
       "5  Ammar Sohail UBIT: Department name? Computer s...  \n",
       "6                          Manav Lala UBIT: DCS-UBIT  \n",
       "7                           Ammar Sohail UBIT: San Q  \n",
       "8                  Shaban Alam UBIT: <Media omitted>  \n",
       "9                              Sheik Raess UBIT: 👍👍👍  "
      ],
      "text/html": "<div>\n<style scoped>\n    .dataframe tbody tr th:only-of-type {\n        vertical-align: middle;\n    }\n\n    .dataframe tbody tr th {\n        vertical-align: top;\n    }\n\n    .dataframe thead th {\n        text-align: right;\n    }\n</style>\n<table border=\"1\" class=\"dataframe\">\n  <thead>\n    <tr style=\"text-align: right;\">\n      <th></th>\n      <th>text</th>\n      <th>DataTime_Str</th>\n      <th>text_2</th>\n    </tr>\n  </thead>\n  <tbody>\n    <tr>\n      <th>0</th>\n      <td>11/07/2020, 10:43 pm - Messages and calls are ...</td>\n      <td>11/07/2020, 10:43 pm</td>\n      <td>Messages and calls are end-to-end encrypted. N...</td>\n    </tr>\n    <tr>\n      <th>1</th>\n      <td>15/07/2020, 8:51 pm - Syed Muhammad Ali Abbas ...</td>\n      <td>15/07/2020, 8:51 pm</td>\n      <td>Syed Muhammad Ali Abbas UBIT: &lt;Media omitted&gt;</td>\n    </tr>\n    <tr>\n      <th>2</th>\n      <td>16/07/2020, 2:39 pm - You added Senior ubit</td>\n      <td>16/07/2020, 2:39 pm</td>\n      <td>You added Senior ubit</td>\n    </tr>\n    <tr>\n      <th>3</th>\n      <td>23/07/2020, 5:38 pm - IAMWaqasAhmed: Allow kar...</td>\n      <td>23/07/2020, 5:38 pm</td>\n      <td>IAMWaqasAhmed: Allow kardoo sub</td>\n    </tr>\n    <tr>\n      <th>4</th>\n      <td>23/07/2020, 7:53 pm - Syed Muhammad Ali Abbas ...</td>\n      <td>23/07/2020, 7:53 pm</td>\n      <td>Syed Muhammad Ali Abbas UBIT: &lt;Media omitted&gt;</td>\n    </tr>\n    <tr>\n      <th>5</th>\n      <td>24/07/2020, 1:04 am - Ammar Sohail UBIT: Depar...</td>\n      <td>24/07/2020, 1:04 am</td>\n      <td>Ammar Sohail UBIT: Department name? Computer s...</td>\n    </tr>\n    <tr>\n      <th>6</th>\n      <td>24/07/2020, 1:04 am - Manav Lala UBIT: DCS-UBIT</td>\n      <td>24/07/2020, 1:04 am</td>\n      <td>Manav Lala UBIT: DCS-UBIT</td>\n    </tr>\n    <tr>\n      <th>7</th>\n      <td>24/07/2020, 1:07 am - Ammar Sohail UBIT: San Q</td>\n      <td>24/07/2020, 1:07 am</td>\n      <td>Ammar Sohail UBIT: San Q</td>\n    </tr>\n    <tr>\n      <th>8</th>\n      <td>24/07/2020, 12:50 pm - Shaban Alam UBIT: &lt;Medi...</td>\n      <td>24/07/2020, 12:50 pm</td>\n      <td>Shaban Alam UBIT: &lt;Media omitted&gt;</td>\n    </tr>\n    <tr>\n      <th>9</th>\n      <td>24/07/2020, 12:52 pm - Sheik Raess UBIT: 👍👍👍</td>\n      <td>24/07/2020, 12:52 pm</td>\n      <td>Sheik Raess UBIT: 👍👍👍</td>\n    </tr>\n  </tbody>\n</table>\n</div>"
     },
     "metadata": {},
     "execution_count": 22
    }
   ],
   "source": [
    "bscs.head(10)"
   ]
  },
  {
   "cell_type": "code",
   "execution_count": null,
   "metadata": {},
   "outputs": [],
   "source": []
  }
 ]
}