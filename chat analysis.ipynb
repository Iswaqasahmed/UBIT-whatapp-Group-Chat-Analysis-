{
 "metadata": {
  "language_info": {
   "codemirror_mode": {
    "name": "ipython",
    "version": 3
   },
   "file_extension": ".py",
   "mimetype": "text/x-python",
   "name": "python",
   "nbconvert_exporter": "python",
   "pygments_lexer": "ipython3",
   "version": "3.8.3-final"
  },
  "orig_nbformat": 2,
  "kernelspec": {
   "name": "Python 3.8.3 64-bit (conda)",
   "display_name": "Python 3.8.3 64-bit (conda)",
   "metadata": {
    "interpreter": {
     "hash": "b3ba2566441a7c06988d0923437866b63cedc61552a5af99d1f4fb67d367b25f"
    }
   }
  }
 },
 "nbformat": 4,
 "nbformat_minor": 2,
 "cells": [
  {
   "cell_type": "code",
   "execution_count": 2,
   "metadata": {},
   "outputs": [],
   "source": [
    "# importing all the neccessary module\n",
    "import pandas as pd\n",
    "import numpy as np\n",
    "import matplotlib.pyplot as plt\n",
    "import emoji\n",
    "from IPython.core.interactiveshell import InteractiveShell\n",
    "import re\n",
    "\n",
    "# how many outputs do you want to display for each block ?\n",
    "InteractiveShell.ast_node_interactivity = 'all'\n",
    "# InteractiveShell.ast_node_interactivity = 'last'\n",
    "\n"
   ]
  },
  {
   "cell_type": "code",
   "execution_count": 3,
   "metadata": {},
   "outputs": [],
   "source": [
    "#how many output summary row do you want to display?\n",
    "pd.set_option('display.max_row',None)\n",
    "# pd.set_option('display.max_row',100)\n",
    "\n",
    "# how many output summary columns do you want to display?\n",
    "pd.set_option('display.max_columns',None)\n",
    "# pd.set_option('display.max_columns',20)\n"
   ]
  },
  {
   "cell_type": "code",
   "execution_count": 5,
   "metadata": {},
   "outputs": [],
   "source": [
    "bscs = pd.read_csv(\"https://drive.google.com/file/d/1lCpVbTYKPBCyNkqvQqaJX0i6NUgMmIlB/view?usp=sharing.txt\",\n",
    "                     delimiter = '\\t',\n",
    "                     header = None,\n",
    "                     names =['text'])"
   ]
  },
  {
   "cell_type": "code",
   "execution_count": null,
   "metadata": {},
   "outputs": [],
   "source": []
  }
 ]
}